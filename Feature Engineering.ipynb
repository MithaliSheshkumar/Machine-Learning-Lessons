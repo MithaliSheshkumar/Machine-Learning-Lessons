{
 "cells": [
  {
   "cell_type": "markdown",
   "id": "3bea1d71",
   "metadata": {
    "papermill": {
     "duration": 0.013523,
     "end_time": "2025-02-23T15:35:10.933829",
     "exception": false,
     "start_time": "2025-02-23T15:35:10.920306",
     "status": "completed"
    },
    "tags": []
   },
   "source": [
    "# Feature Engineering"
   ]
  },
  {
   "cell_type": "markdown",
   "id": "a23e7534",
   "metadata": {
    "papermill": {
     "duration": 0.012919,
     "end_time": "2025-02-23T15:35:10.959626",
     "exception": false,
     "start_time": "2025-02-23T15:35:10.946707",
     "status": "completed"
    },
    "tags": []
   },
   "source": [
    "## Lesson 1: Understanding Feature Engineering"
   ]
  },
  {
   "cell_type": "raw",
   "id": "6afb146c",
   "metadata": {
    "papermill": {
     "duration": 0.012995,
     "end_time": "2025-02-23T15:35:10.987819",
     "exception": false,
     "start_time": "2025-02-23T15:35:10.974824",
     "status": "completed"
    },
    "tags": []
   },
   "source": [
    "Feature engineering is the process of transforming raw data into features that better represent the problem to the model. Better features = better model performance!"
   ]
  },
  {
   "cell_type": "markdown",
   "id": "c9f1020f",
   "metadata": {
    "papermill": {
     "duration": 0.01322,
     "end_time": "2025-02-23T15:35:11.014682",
     "exception": false,
     "start_time": "2025-02-23T15:35:11.001462",
     "status": "completed"
    },
    "tags": []
   },
   "source": [
    "## Lesson 2: Data Preprocessing (Handling Missing Data)"
   ]
  },
  {
   "cell_type": "code",
   "execution_count": 1,
   "id": "43b49cd0",
   "metadata": {
    "execution": {
     "iopub.execute_input": "2025-02-23T15:35:11.043122Z",
     "iopub.status.busy": "2025-02-23T15:35:11.042515Z",
     "iopub.status.idle": "2025-02-23T15:35:12.418076Z",
     "shell.execute_reply": "2025-02-23T15:35:12.416697Z"
    },
    "papermill": {
     "duration": 1.391585,
     "end_time": "2025-02-23T15:35:12.419970",
     "exception": false,
     "start_time": "2025-02-23T15:35:11.028385",
     "status": "completed"
    },
    "tags": []
   },
   "outputs": [
    {
     "name": "stdout",
     "output_type": "stream",
     "text": [
      "PassengerId      0\n",
      "Survived         0\n",
      "Pclass           0\n",
      "Name             0\n",
      "Sex              0\n",
      "Age            177\n",
      "SibSp            0\n",
      "Parch            0\n",
      "Ticket           0\n",
      "Fare             0\n",
      "Cabin          687\n",
      "Embarked         2\n",
      "dtype: int64\n"
     ]
    }
   ],
   "source": [
    "import pandas as pd\n",
    "\n",
    "# Load dataset\n",
    "dft = pd.read_csv(\"https://raw.githubusercontent.com/datasciencedojo/datasets/master/titanic.csv\")\n",
    "\n",
    "# Check missing values\n",
    "print(dft.isnull().sum())\n"
   ]
  },
  {
   "cell_type": "raw",
   "id": "3209fdca",
   "metadata": {
    "papermill": {
     "duration": 0.012381,
     "end_time": "2025-02-23T15:35:12.445805",
     "exception": false,
     "start_time": "2025-02-23T15:35:12.433424",
     "status": "completed"
    },
    "tags": []
   },
   "source": [
    "Fill missing values in Age using the median."
   ]
  },
  {
   "cell_type": "raw",
   "id": "52eddff6",
   "metadata": {
    "papermill": {
     "duration": 0.013948,
     "end_time": "2025-02-23T15:35:12.472806",
     "exception": false,
     "start_time": "2025-02-23T15:35:12.458858",
     "status": "completed"
    },
    "tags": []
   },
   "source": [
    "The median is the middle value in a sorted dataset. It divides the dataset into two equal halves, with half the values being lower and half being higher.\n",
    "\n",
    "If there is an odd number of values, the median is the middle value.\n",
    "If there is an even number of values, the median is the average of the two middle values.\n",
    "Example:\n",
    "Odd number of values:\n",
    "Dataset: [3, 7, 9] → Median = 7\n",
    "\n",
    "Even number of values:\n",
    "Dataset: [2, 4, 6, 8] → Median = (4 + 6) / 2 = 5"
   ]
  },
  {
   "cell_type": "code",
   "execution_count": 2,
   "id": "06e6f248",
   "metadata": {
    "execution": {
     "iopub.execute_input": "2025-02-23T15:35:12.501640Z",
     "iopub.status.busy": "2025-02-23T15:35:12.501277Z",
     "iopub.status.idle": "2025-02-23T15:35:12.505908Z",
     "shell.execute_reply": "2025-02-23T15:35:12.504556Z"
    },
    "papermill": {
     "duration": 0.021261,
     "end_time": "2025-02-23T15:35:12.508227",
     "exception": false,
     "start_time": "2025-02-23T15:35:12.486966",
     "status": "completed"
    },
    "tags": []
   },
   "outputs": [],
   "source": [
    "#fillna function"
   ]
  },
  {
   "cell_type": "raw",
   "id": "04800941",
   "metadata": {
    "papermill": {
     "duration": 0.012842,
     "end_time": "2025-02-23T15:35:12.534173",
     "exception": false,
     "start_time": "2025-02-23T15:35:12.521331",
     "status": "completed"
    },
    "tags": []
   },
   "source": [
    "fillna() in Pandas is used to fill missing (NaN) values in a DataFrame or Series. You can replace missing values with a specific value, the mean, median, or forward/backward filling methods.\n",
    "\n",
    "Syntax\n",
    "\n",
    "df.fillna(value, method, inplace)\n",
    "\n",
    "value: A specific value to replace NaN.\n",
    "\n",
    "method: \"ffill\" (forward fill) or \"bfill\" (backward fill).\n",
    "Forward and backward filling are methods to handle missing values by propagating existing values.\n",
    "\n",
    "inplace: If True, modifies the DataFrame directly. If False, a new DataFrame will be created with the changes and the original DataFrame will not be modified\n",
    "\n",
    "import pandas as pd\n",
    "\n",
    "df = pd.DataFrame({\"A\": [1, None, 3]})\n",
    "new_df = df.fillna(method='ffill', inplace=False)  # Creates a new DataFrame\n",
    "print(new_df)  # Shows filled values\n",
    "print(df)  # Original DataFrame remains unchanged"
   ]
  },
  {
   "cell_type": "code",
   "execution_count": 3,
   "id": "3f3ba431",
   "metadata": {
    "execution": {
     "iopub.execute_input": "2025-02-23T15:35:12.561691Z",
     "iopub.status.busy": "2025-02-23T15:35:12.561339Z",
     "iopub.status.idle": "2025-02-23T15:35:12.573839Z",
     "shell.execute_reply": "2025-02-23T15:35:12.572497Z"
    },
    "papermill": {
     "duration": 0.028982,
     "end_time": "2025-02-23T15:35:12.575915",
     "exception": false,
     "start_time": "2025-02-23T15:35:12.546933",
     "status": "completed"
    },
    "tags": []
   },
   "outputs": [
    {
     "name": "stdout",
     "output_type": "stream",
     "text": [
      "0\n"
     ]
    },
    {
     "name": "stderr",
     "output_type": "stream",
     "text": [
      "<ipython-input-3-cf17d40336dd>:1: FutureWarning: A value is trying to be set on a copy of a DataFrame or Series through chained assignment using an inplace method.\n",
      "The behavior will change in pandas 3.0. This inplace method will never work because the intermediate object on which we are setting values always behaves as a copy.\n",
      "\n",
      "For example, when doing 'df[col].method(value, inplace=True)', try using 'df.method({col: value}, inplace=True)' or df[col] = df[col].method(value) instead, to perform the operation inplace on the original object.\n",
      "\n",
      "\n",
      "  dft['Age'].fillna(dft['Age'].median(), inplace=True)\n"
     ]
    }
   ],
   "source": [
    "dft['Age'].fillna(dft['Age'].median(), inplace=True)\n",
    "print(dft['Age'].isnull().sum())  # Should print 0\n"
   ]
  },
  {
   "cell_type": "markdown",
   "id": "d7443f27",
   "metadata": {
    "papermill": {
     "duration": 0.012697,
     "end_time": "2025-02-23T15:35:12.601828",
     "exception": false,
     "start_time": "2025-02-23T15:35:12.589131",
     "status": "completed"
    },
    "tags": []
   },
   "source": [
    "## Lesson 3: Encoding Categorical Variables"
   ]
  },
  {
   "cell_type": "raw",
   "id": "b144a39f",
   "metadata": {
    "papermill": {
     "duration": 0.013156,
     "end_time": "2025-02-23T15:35:12.628200",
     "exception": false,
     "start_time": "2025-02-23T15:35:12.615044",
     "status": "completed"
    },
    "tags": []
   },
   "source": [
    "Many ML models don’t understand text. We need to convert text into numbers."
   ]
  },
  {
   "cell_type": "code",
   "execution_count": 4,
   "id": "22c52045",
   "metadata": {
    "execution": {
     "iopub.execute_input": "2025-02-23T15:35:12.654987Z",
     "iopub.status.busy": "2025-02-23T15:35:12.654640Z",
     "iopub.status.idle": "2025-02-23T15:35:12.674196Z",
     "shell.execute_reply": "2025-02-23T15:35:12.672511Z"
    },
    "papermill": {
     "duration": 0.035325,
     "end_time": "2025-02-23T15:35:12.676233",
     "exception": false,
     "start_time": "2025-02-23T15:35:12.640908",
     "status": "completed"
    },
    "tags": []
   },
   "outputs": [
    {
     "name": "stdout",
     "output_type": "stream",
     "text": [
      "   Sex\n",
      "0    0\n",
      "1    1\n",
      "2    1\n",
      "3    1\n",
      "4    0\n"
     ]
    }
   ],
   "source": [
    "dft['Sex'] = dft['Sex'].map({'male': 0, 'female': 1})\n",
    "print(dft[['Sex']].head())\n"
   ]
  },
  {
   "cell_type": "raw",
   "id": "6bcef05b",
   "metadata": {
    "papermill": {
     "duration": 0.012859,
     "end_time": "2025-02-23T15:35:12.702652",
     "exception": false,
     "start_time": "2025-02-23T15:35:12.689793",
     "status": "completed"
    },
    "tags": []
   },
   "source": [
    "The df[column].map() function in Pandas is used to apply a function, dictionary, or scalar transformation element-wise to a Series (i.e., a single column of a DataFrame). It is useful for modifying, replacing, or transforming data.\n",
    "\n"
   ]
  },
  {
   "cell_type": "markdown",
   "id": "df959dc9",
   "metadata": {
    "papermill": {
     "duration": 0.013604,
     "end_time": "2025-02-23T15:35:12.729302",
     "exception": false,
     "start_time": "2025-02-23T15:35:12.715698",
     "status": "completed"
    },
    "tags": []
   },
   "source": [
    " Using map() with a Function"
   ]
  },
  {
   "cell_type": "code",
   "execution_count": 5,
   "id": "e1d804b9",
   "metadata": {
    "execution": {
     "iopub.execute_input": "2025-02-23T15:35:12.756650Z",
     "iopub.status.busy": "2025-02-23T15:35:12.756305Z",
     "iopub.status.idle": "2025-02-23T15:35:12.764271Z",
     "shell.execute_reply": "2025-02-23T15:35:12.762994Z"
    },
    "papermill": {
     "duration": 0.023552,
     "end_time": "2025-02-23T15:35:12.765993",
     "exception": false,
     "start_time": "2025-02-23T15:35:12.742441",
     "status": "completed"
    },
    "tags": []
   },
   "outputs": [
    {
     "name": "stdout",
     "output_type": "stream",
     "text": [
      "   A\n",
      "0  2\n",
      "1  4\n",
      "2  6\n",
      "3  8\n"
     ]
    }
   ],
   "source": [
    "import pandas as pd\n",
    "\n",
    "df = pd.DataFrame({\"A\": [1, 2, 3, 4]})\n",
    "df[\"A\"] = df[\"A\"].map(lambda x: x * 2)  # Multiply each value by 2\n",
    "print(df)\n"
   ]
  },
  {
   "cell_type": "markdown",
   "id": "4e568f64",
   "metadata": {
    "papermill": {
     "duration": 0.01267,
     "end_time": "2025-02-23T15:35:12.792110",
     "exception": false,
     "start_time": "2025-02-23T15:35:12.779440",
     "status": "completed"
    },
    "tags": []
   },
   "source": [
    " Using map() with a Dictionary"
   ]
  },
  {
   "cell_type": "code",
   "execution_count": 6,
   "id": "ede4270f",
   "metadata": {
    "execution": {
     "iopub.execute_input": "2025-02-23T15:35:12.820364Z",
     "iopub.status.busy": "2025-02-23T15:35:12.819964Z",
     "iopub.status.idle": "2025-02-23T15:35:12.828556Z",
     "shell.execute_reply": "2025-02-23T15:35:12.826920Z"
    },
    "papermill": {
     "duration": 0.02479,
     "end_time": "2025-02-23T15:35:12.830590",
     "exception": false,
     "start_time": "2025-02-23T15:35:12.805800",
     "status": "completed"
    },
    "tags": []
   },
   "outputs": [
    {
     "name": "stdout",
     "output_type": "stream",
     "text": [
      "   Gender\n",
      "0    Male\n",
      "1  Female\n",
      "2    Male\n",
      "3  Female\n"
     ]
    }
   ],
   "source": [
    "df = pd.DataFrame({\"Gender\": [\"M\", \"F\", \"M\", \"F\"]})\n",
    "df[\"Gender\"] = df[\"Gender\"].map({\"M\": \"Male\", \"F\": \"Female\"})\n",
    "print(df)\n"
   ]
  },
  {
   "cell_type": "markdown",
   "id": "4814c4d7",
   "metadata": {
    "papermill": {
     "duration": 0.012888,
     "end_time": "2025-02-23T15:35:12.856921",
     "exception": false,
     "start_time": "2025-02-23T15:35:12.844033",
     "status": "completed"
    },
    "tags": []
   },
   "source": [
    "Using map() with a Scalar"
   ]
  },
  {
   "cell_type": "code",
   "execution_count": 7,
   "id": "62f4f84a",
   "metadata": {
    "execution": {
     "iopub.execute_input": "2025-02-23T15:35:12.886276Z",
     "iopub.status.busy": "2025-02-23T15:35:12.885860Z",
     "iopub.status.idle": "2025-02-23T15:35:12.905050Z",
     "shell.execute_reply": "2025-02-23T15:35:12.903735Z"
    },
    "papermill": {
     "duration": 0.036636,
     "end_time": "2025-02-23T15:35:12.907041",
     "exception": false,
     "start_time": "2025-02-23T15:35:12.870405",
     "status": "completed"
    },
    "tags": []
   },
   "outputs": [
    {
     "data": {
      "text/html": [
       "<div>\n",
       "<style scoped>\n",
       "    .dataframe tbody tr th:only-of-type {\n",
       "        vertical-align: middle;\n",
       "    }\n",
       "\n",
       "    .dataframe tbody tr th {\n",
       "        vertical-align: top;\n",
       "    }\n",
       "\n",
       "    .dataframe thead th {\n",
       "        text-align: right;\n",
       "    }\n",
       "</style>\n",
       "<table border=\"1\" class=\"dataframe\">\n",
       "  <thead>\n",
       "    <tr style=\"text-align: right;\">\n",
       "      <th></th>\n",
       "      <th>Gender</th>\n",
       "    </tr>\n",
       "  </thead>\n",
       "  <tbody>\n",
       "    <tr>\n",
       "      <th>0</th>\n",
       "      <td>Male</td>\n",
       "    </tr>\n",
       "    <tr>\n",
       "      <th>1</th>\n",
       "      <td>Female</td>\n",
       "    </tr>\n",
       "    <tr>\n",
       "      <th>2</th>\n",
       "      <td>Male</td>\n",
       "    </tr>\n",
       "    <tr>\n",
       "      <th>3</th>\n",
       "      <td>Female</td>\n",
       "    </tr>\n",
       "  </tbody>\n",
       "</table>\n",
       "</div>"
      ],
      "text/plain": [
       "   Gender\n",
       "0    Male\n",
       "1  Female\n",
       "2    Male\n",
       "3  Female"
      ]
     },
     "execution_count": 7,
     "metadata": {},
     "output_type": "execute_result"
    }
   ],
   "source": [
    "df"
   ]
  },
  {
   "cell_type": "code",
   "execution_count": 8,
   "id": "d0578c56",
   "metadata": {
    "execution": {
     "iopub.execute_input": "2025-02-23T15:35:12.937004Z",
     "iopub.status.busy": "2025-02-23T15:35:12.936494Z",
     "iopub.status.idle": "2025-02-23T15:35:12.943977Z",
     "shell.execute_reply": "2025-02-23T15:35:12.942760Z"
    },
    "papermill": {
     "duration": 0.024479,
     "end_time": "2025-02-23T15:35:12.945799",
     "exception": false,
     "start_time": "2025-02-23T15:35:12.921320",
     "status": "completed"
    },
    "tags": []
   },
   "outputs": [
    {
     "name": "stdout",
     "output_type": "stream",
     "text": [
      "    A\n",
      "0  10\n",
      "1  10\n",
      "2  10\n",
      "3  10\n"
     ]
    }
   ],
   "source": [
    "df = pd.DataFrame({\"A\": [1, 2, 3, 4]})\n",
    "df['A'] = df['A'].map(lambda x : 10)\n",
    "print(df)\n"
   ]
  },
  {
   "cell_type": "code",
   "execution_count": 9,
   "id": "c336890b",
   "metadata": {
    "execution": {
     "iopub.execute_input": "2025-02-23T15:35:12.976349Z",
     "iopub.status.busy": "2025-02-23T15:35:12.975901Z",
     "iopub.status.idle": "2025-02-23T15:35:12.984748Z",
     "shell.execute_reply": "2025-02-23T15:35:12.983502Z"
    },
    "papermill": {
     "duration": 0.02737,
     "end_time": "2025-02-23T15:35:12.986732",
     "exception": false,
     "start_time": "2025-02-23T15:35:12.959362",
     "status": "completed"
    },
    "tags": []
   },
   "outputs": [
    {
     "data": {
      "text/html": [
       "<div>\n",
       "<style scoped>\n",
       "    .dataframe tbody tr th:only-of-type {\n",
       "        vertical-align: middle;\n",
       "    }\n",
       "\n",
       "    .dataframe tbody tr th {\n",
       "        vertical-align: top;\n",
       "    }\n",
       "\n",
       "    .dataframe thead th {\n",
       "        text-align: right;\n",
       "    }\n",
       "</style>\n",
       "<table border=\"1\" class=\"dataframe\">\n",
       "  <thead>\n",
       "    <tr style=\"text-align: right;\">\n",
       "      <th></th>\n",
       "      <th>A</th>\n",
       "    </tr>\n",
       "  </thead>\n",
       "  <tbody>\n",
       "    <tr>\n",
       "      <th>0</th>\n",
       "      <td>10</td>\n",
       "    </tr>\n",
       "    <tr>\n",
       "      <th>1</th>\n",
       "      <td>10</td>\n",
       "    </tr>\n",
       "    <tr>\n",
       "      <th>2</th>\n",
       "      <td>10</td>\n",
       "    </tr>\n",
       "    <tr>\n",
       "      <th>3</th>\n",
       "      <td>10</td>\n",
       "    </tr>\n",
       "  </tbody>\n",
       "</table>\n",
       "</div>"
      ],
      "text/plain": [
       "    A\n",
       "0  10\n",
       "1  10\n",
       "2  10\n",
       "3  10"
      ]
     },
     "execution_count": 9,
     "metadata": {},
     "output_type": "execute_result"
    }
   ],
   "source": [
    "df"
   ]
  },
  {
   "cell_type": "raw",
   "id": "4a4f8159",
   "metadata": {
    "papermill": {
     "duration": 0.014526,
     "end_time": "2025-02-23T15:35:13.015547",
     "exception": false,
     "start_time": "2025-02-23T15:35:13.001021",
     "status": "completed"
    },
    "tags": []
   },
   "source": [
    "Convert the 'Embarked' column into One-Hot Encoding."
   ]
  },
  {
   "cell_type": "code",
   "execution_count": 10,
   "id": "e30e40df",
   "metadata": {
    "execution": {
     "iopub.execute_input": "2025-02-23T15:35:13.047227Z",
     "iopub.status.busy": "2025-02-23T15:35:13.046826Z",
     "iopub.status.idle": "2025-02-23T15:35:13.053884Z",
     "shell.execute_reply": "2025-02-23T15:35:13.052696Z"
    },
    "papermill": {
     "duration": 0.024147,
     "end_time": "2025-02-23T15:35:13.055646",
     "exception": false,
     "start_time": "2025-02-23T15:35:13.031499",
     "status": "completed"
    },
    "tags": []
   },
   "outputs": [
    {
     "data": {
      "text/plain": [
       "Index(['PassengerId', 'Survived', 'Pclass', 'Name', 'Sex', 'Age', 'SibSp',\n",
       "       'Parch', 'Ticket', 'Fare', 'Cabin', 'Embarked'],\n",
       "      dtype='object')"
      ]
     },
     "execution_count": 10,
     "metadata": {},
     "output_type": "execute_result"
    }
   ],
   "source": [
    "dft.columns"
   ]
  },
  {
   "cell_type": "code",
   "execution_count": 11,
   "id": "f042875b",
   "metadata": {
    "execution": {
     "iopub.execute_input": "2025-02-23T15:35:13.084637Z",
     "iopub.status.busy": "2025-02-23T15:35:13.084289Z",
     "iopub.status.idle": "2025-02-23T15:35:13.099902Z",
     "shell.execute_reply": "2025-02-23T15:35:13.098794Z"
    },
    "papermill": {
     "duration": 0.032216,
     "end_time": "2025-02-23T15:35:13.101698",
     "exception": false,
     "start_time": "2025-02-23T15:35:13.069482",
     "status": "completed"
    },
    "tags": []
   },
   "outputs": [
    {
     "data": {
      "text/html": [
       "<div>\n",
       "<style scoped>\n",
       "    .dataframe tbody tr th:only-of-type {\n",
       "        vertical-align: middle;\n",
       "    }\n",
       "\n",
       "    .dataframe tbody tr th {\n",
       "        vertical-align: top;\n",
       "    }\n",
       "\n",
       "    .dataframe thead th {\n",
       "        text-align: right;\n",
       "    }\n",
       "</style>\n",
       "<table border=\"1\" class=\"dataframe\">\n",
       "  <thead>\n",
       "    <tr style=\"text-align: right;\">\n",
       "      <th></th>\n",
       "      <th>PassengerId</th>\n",
       "      <th>Survived</th>\n",
       "      <th>Pclass</th>\n",
       "      <th>Name</th>\n",
       "      <th>Sex</th>\n",
       "      <th>Age</th>\n",
       "      <th>SibSp</th>\n",
       "      <th>Parch</th>\n",
       "      <th>Ticket</th>\n",
       "      <th>Fare</th>\n",
       "      <th>Cabin</th>\n",
       "      <th>Embarked</th>\n",
       "    </tr>\n",
       "  </thead>\n",
       "  <tbody>\n",
       "    <tr>\n",
       "      <th>0</th>\n",
       "      <td>1</td>\n",
       "      <td>0</td>\n",
       "      <td>3</td>\n",
       "      <td>Braund, Mr. Owen Harris</td>\n",
       "      <td>0</td>\n",
       "      <td>22.0</td>\n",
       "      <td>1</td>\n",
       "      <td>0</td>\n",
       "      <td>A/5 21171</td>\n",
       "      <td>7.2500</td>\n",
       "      <td>NaN</td>\n",
       "      <td>S</td>\n",
       "    </tr>\n",
       "    <tr>\n",
       "      <th>1</th>\n",
       "      <td>2</td>\n",
       "      <td>1</td>\n",
       "      <td>1</td>\n",
       "      <td>Cumings, Mrs. John Bradley (Florence Briggs Th...</td>\n",
       "      <td>1</td>\n",
       "      <td>38.0</td>\n",
       "      <td>1</td>\n",
       "      <td>0</td>\n",
       "      <td>PC 17599</td>\n",
       "      <td>71.2833</td>\n",
       "      <td>C85</td>\n",
       "      <td>C</td>\n",
       "    </tr>\n",
       "    <tr>\n",
       "      <th>2</th>\n",
       "      <td>3</td>\n",
       "      <td>1</td>\n",
       "      <td>3</td>\n",
       "      <td>Heikkinen, Miss. Laina</td>\n",
       "      <td>1</td>\n",
       "      <td>26.0</td>\n",
       "      <td>0</td>\n",
       "      <td>0</td>\n",
       "      <td>STON/O2. 3101282</td>\n",
       "      <td>7.9250</td>\n",
       "      <td>NaN</td>\n",
       "      <td>S</td>\n",
       "    </tr>\n",
       "    <tr>\n",
       "      <th>3</th>\n",
       "      <td>4</td>\n",
       "      <td>1</td>\n",
       "      <td>1</td>\n",
       "      <td>Futrelle, Mrs. Jacques Heath (Lily May Peel)</td>\n",
       "      <td>1</td>\n",
       "      <td>35.0</td>\n",
       "      <td>1</td>\n",
       "      <td>0</td>\n",
       "      <td>113803</td>\n",
       "      <td>53.1000</td>\n",
       "      <td>C123</td>\n",
       "      <td>S</td>\n",
       "    </tr>\n",
       "    <tr>\n",
       "      <th>4</th>\n",
       "      <td>5</td>\n",
       "      <td>0</td>\n",
       "      <td>3</td>\n",
       "      <td>Allen, Mr. William Henry</td>\n",
       "      <td>0</td>\n",
       "      <td>35.0</td>\n",
       "      <td>0</td>\n",
       "      <td>0</td>\n",
       "      <td>373450</td>\n",
       "      <td>8.0500</td>\n",
       "      <td>NaN</td>\n",
       "      <td>S</td>\n",
       "    </tr>\n",
       "  </tbody>\n",
       "</table>\n",
       "</div>"
      ],
      "text/plain": [
       "   PassengerId  Survived  Pclass  \\\n",
       "0            1         0       3   \n",
       "1            2         1       1   \n",
       "2            3         1       3   \n",
       "3            4         1       1   \n",
       "4            5         0       3   \n",
       "\n",
       "                                                Name  Sex   Age  SibSp  Parch  \\\n",
       "0                            Braund, Mr. Owen Harris    0  22.0      1      0   \n",
       "1  Cumings, Mrs. John Bradley (Florence Briggs Th...    1  38.0      1      0   \n",
       "2                             Heikkinen, Miss. Laina    1  26.0      0      0   \n",
       "3       Futrelle, Mrs. Jacques Heath (Lily May Peel)    1  35.0      1      0   \n",
       "4                           Allen, Mr. William Henry    0  35.0      0      0   \n",
       "\n",
       "             Ticket     Fare Cabin Embarked  \n",
       "0         A/5 21171   7.2500   NaN        S  \n",
       "1          PC 17599  71.2833   C85        C  \n",
       "2  STON/O2. 3101282   7.9250   NaN        S  \n",
       "3            113803  53.1000  C123        S  \n",
       "4            373450   8.0500   NaN        S  "
      ]
     },
     "execution_count": 11,
     "metadata": {},
     "output_type": "execute_result"
    }
   ],
   "source": [
    "dft.head()"
   ]
  },
  {
   "cell_type": "code",
   "execution_count": 12,
   "id": "839c40c5",
   "metadata": {
    "execution": {
     "iopub.execute_input": "2025-02-23T15:35:13.132576Z",
     "iopub.status.busy": "2025-02-23T15:35:13.132219Z",
     "iopub.status.idle": "2025-02-23T15:35:13.154662Z",
     "shell.execute_reply": "2025-02-23T15:35:13.152948Z"
    },
    "papermill": {
     "duration": 0.040289,
     "end_time": "2025-02-23T15:35:13.156751",
     "exception": false,
     "start_time": "2025-02-23T15:35:13.116462",
     "status": "completed"
    },
    "tags": []
   },
   "outputs": [
    {
     "name": "stdout",
     "output_type": "stream",
     "text": [
      "   PassengerId  Survived  Pclass  \\\n",
      "0            1         0       3   \n",
      "1            2         1       1   \n",
      "2            3         1       3   \n",
      "3            4         1       1   \n",
      "4            5         0       3   \n",
      "\n",
      "                                                Name  Sex   Age  SibSp  Parch  \\\n",
      "0                            Braund, Mr. Owen Harris    0  22.0      1      0   \n",
      "1  Cumings, Mrs. John Bradley (Florence Briggs Th...    1  38.0      1      0   \n",
      "2                             Heikkinen, Miss. Laina    1  26.0      0      0   \n",
      "3       Futrelle, Mrs. Jacques Heath (Lily May Peel)    1  35.0      1      0   \n",
      "4                           Allen, Mr. William Henry    0  35.0      0      0   \n",
      "\n",
      "             Ticket     Fare Cabin  Embarked_C  Embarked_Q  Embarked_S  \n",
      "0         A/5 21171   7.2500   NaN       False       False        True  \n",
      "1          PC 17599  71.2833   C85        True       False       False  \n",
      "2  STON/O2. 3101282   7.9250   NaN       False       False        True  \n",
      "3            113803  53.1000  C123       False       False        True  \n",
      "4            373450   8.0500   NaN       False       False        True  \n"
     ]
    }
   ],
   "source": [
    "dft = pd.get_dummies(dft, columns=['Embarked'])\n",
    "print(dft.head())\n"
   ]
  },
  {
   "cell_type": "code",
   "execution_count": 13,
   "id": "eb0f3907",
   "metadata": {
    "execution": {
     "iopub.execute_input": "2025-02-23T15:35:13.188992Z",
     "iopub.status.busy": "2025-02-23T15:35:13.188642Z",
     "iopub.status.idle": "2025-02-23T15:35:13.207896Z",
     "shell.execute_reply": "2025-02-23T15:35:13.206319Z"
    },
    "papermill": {
     "duration": 0.037842,
     "end_time": "2025-02-23T15:35:13.209869",
     "exception": false,
     "start_time": "2025-02-23T15:35:13.172027",
     "status": "completed"
    },
    "tags": []
   },
   "outputs": [
    {
     "data": {
      "text/html": [
       "<div>\n",
       "<style scoped>\n",
       "    .dataframe tbody tr th:only-of-type {\n",
       "        vertical-align: middle;\n",
       "    }\n",
       "\n",
       "    .dataframe tbody tr th {\n",
       "        vertical-align: top;\n",
       "    }\n",
       "\n",
       "    .dataframe thead th {\n",
       "        text-align: right;\n",
       "    }\n",
       "</style>\n",
       "<table border=\"1\" class=\"dataframe\">\n",
       "  <thead>\n",
       "    <tr style=\"text-align: right;\">\n",
       "      <th></th>\n",
       "      <th>PassengerId</th>\n",
       "      <th>Survived</th>\n",
       "      <th>Pclass</th>\n",
       "      <th>Name</th>\n",
       "      <th>Sex</th>\n",
       "      <th>Age</th>\n",
       "      <th>SibSp</th>\n",
       "      <th>Parch</th>\n",
       "      <th>Ticket</th>\n",
       "      <th>Fare</th>\n",
       "      <th>Cabin</th>\n",
       "      <th>Embarked_C</th>\n",
       "      <th>Embarked_Q</th>\n",
       "      <th>Embarked_S</th>\n",
       "    </tr>\n",
       "  </thead>\n",
       "  <tbody>\n",
       "    <tr>\n",
       "      <th>0</th>\n",
       "      <td>1</td>\n",
       "      <td>0</td>\n",
       "      <td>3</td>\n",
       "      <td>Braund, Mr. Owen Harris</td>\n",
       "      <td>0</td>\n",
       "      <td>22.0</td>\n",
       "      <td>1</td>\n",
       "      <td>0</td>\n",
       "      <td>A/5 21171</td>\n",
       "      <td>7.2500</td>\n",
       "      <td>NaN</td>\n",
       "      <td>False</td>\n",
       "      <td>False</td>\n",
       "      <td>True</td>\n",
       "    </tr>\n",
       "    <tr>\n",
       "      <th>1</th>\n",
       "      <td>2</td>\n",
       "      <td>1</td>\n",
       "      <td>1</td>\n",
       "      <td>Cumings, Mrs. John Bradley (Florence Briggs Th...</td>\n",
       "      <td>1</td>\n",
       "      <td>38.0</td>\n",
       "      <td>1</td>\n",
       "      <td>0</td>\n",
       "      <td>PC 17599</td>\n",
       "      <td>71.2833</td>\n",
       "      <td>C85</td>\n",
       "      <td>True</td>\n",
       "      <td>False</td>\n",
       "      <td>False</td>\n",
       "    </tr>\n",
       "    <tr>\n",
       "      <th>2</th>\n",
       "      <td>3</td>\n",
       "      <td>1</td>\n",
       "      <td>3</td>\n",
       "      <td>Heikkinen, Miss. Laina</td>\n",
       "      <td>1</td>\n",
       "      <td>26.0</td>\n",
       "      <td>0</td>\n",
       "      <td>0</td>\n",
       "      <td>STON/O2. 3101282</td>\n",
       "      <td>7.9250</td>\n",
       "      <td>NaN</td>\n",
       "      <td>False</td>\n",
       "      <td>False</td>\n",
       "      <td>True</td>\n",
       "    </tr>\n",
       "    <tr>\n",
       "      <th>3</th>\n",
       "      <td>4</td>\n",
       "      <td>1</td>\n",
       "      <td>1</td>\n",
       "      <td>Futrelle, Mrs. Jacques Heath (Lily May Peel)</td>\n",
       "      <td>1</td>\n",
       "      <td>35.0</td>\n",
       "      <td>1</td>\n",
       "      <td>0</td>\n",
       "      <td>113803</td>\n",
       "      <td>53.1000</td>\n",
       "      <td>C123</td>\n",
       "      <td>False</td>\n",
       "      <td>False</td>\n",
       "      <td>True</td>\n",
       "    </tr>\n",
       "    <tr>\n",
       "      <th>4</th>\n",
       "      <td>5</td>\n",
       "      <td>0</td>\n",
       "      <td>3</td>\n",
       "      <td>Allen, Mr. William Henry</td>\n",
       "      <td>0</td>\n",
       "      <td>35.0</td>\n",
       "      <td>0</td>\n",
       "      <td>0</td>\n",
       "      <td>373450</td>\n",
       "      <td>8.0500</td>\n",
       "      <td>NaN</td>\n",
       "      <td>False</td>\n",
       "      <td>False</td>\n",
       "      <td>True</td>\n",
       "    </tr>\n",
       "  </tbody>\n",
       "</table>\n",
       "</div>"
      ],
      "text/plain": [
       "   PassengerId  Survived  Pclass  \\\n",
       "0            1         0       3   \n",
       "1            2         1       1   \n",
       "2            3         1       3   \n",
       "3            4         1       1   \n",
       "4            5         0       3   \n",
       "\n",
       "                                                Name  Sex   Age  SibSp  Parch  \\\n",
       "0                            Braund, Mr. Owen Harris    0  22.0      1      0   \n",
       "1  Cumings, Mrs. John Bradley (Florence Briggs Th...    1  38.0      1      0   \n",
       "2                             Heikkinen, Miss. Laina    1  26.0      0      0   \n",
       "3       Futrelle, Mrs. Jacques Heath (Lily May Peel)    1  35.0      1      0   \n",
       "4                           Allen, Mr. William Henry    0  35.0      0      0   \n",
       "\n",
       "             Ticket     Fare Cabin  Embarked_C  Embarked_Q  Embarked_S  \n",
       "0         A/5 21171   7.2500   NaN       False       False        True  \n",
       "1          PC 17599  71.2833   C85        True       False       False  \n",
       "2  STON/O2. 3101282   7.9250   NaN       False       False        True  \n",
       "3            113803  53.1000  C123       False       False        True  \n",
       "4            373450   8.0500   NaN       False       False        True  "
      ]
     },
     "execution_count": 13,
     "metadata": {},
     "output_type": "execute_result"
    }
   ],
   "source": [
    "dft.head()"
   ]
  },
  {
   "cell_type": "markdown",
   "id": "3342435a",
   "metadata": {
    "papermill": {
     "duration": 0.014961,
     "end_time": "2025-02-23T15:35:13.239399",
     "exception": false,
     "start_time": "2025-02-23T15:35:13.224438",
     "status": "completed"
    },
    "tags": []
   },
   "source": [
    "One hot coding "
   ]
  },
  {
   "cell_type": "raw",
   "id": "b0fb4c6a",
   "metadata": {
    "papermill": {
     "duration": 0.014877,
     "end_time": "2025-02-23T15:35:13.269549",
     "exception": false,
     "start_time": "2025-02-23T15:35:13.254672",
     "status": "completed"
    },
    "tags": []
   },
   "source": [
    "What is One-Hot Encoding?\n",
    "One-hot encoding is a technique used to convert categorical data (labels or classes) into a numerical format that machine learning models can understand. It represents each category as a binary vector, where only one element is 1 (hot) and all others are 0 (cold)."
   ]
  },
  {
   "cell_type": "raw",
   "id": "640c4bf7",
   "metadata": {
    "papermill": {
     "duration": 0.014903,
     "end_time": "2025-02-23T15:35:13.298843",
     "exception": false,
     "start_time": "2025-02-23T15:35:13.283940",
     "status": "completed"
    },
    "tags": []
   },
   "source": [
    "One-hot encoding transforms these categories into a machine-friendly numerical form without implying any ordinal relationship."
   ]
  },
  {
   "cell_type": "code",
   "execution_count": 14,
   "id": "2cf393eb",
   "metadata": {
    "execution": {
     "iopub.execute_input": "2025-02-23T15:35:13.329173Z",
     "iopub.status.busy": "2025-02-23T15:35:13.328791Z",
     "iopub.status.idle": "2025-02-23T15:35:13.341663Z",
     "shell.execute_reply": "2025-02-23T15:35:13.340491Z"
    },
    "papermill": {
     "duration": 0.029539,
     "end_time": "2025-02-23T15:35:13.343222",
     "exception": false,
     "start_time": "2025-02-23T15:35:13.313683",
     "status": "completed"
    },
    "tags": []
   },
   "outputs": [
    {
     "name": "stdout",
     "output_type": "stream",
     "text": [
      "   Color_Blue  Color_Green  Color_Red\n",
      "0       False        False       True\n",
      "1       False         True      False\n",
      "2        True        False      False\n",
      "3       False         True      False\n",
      "4       False        False       True\n"
     ]
    }
   ],
   "source": [
    "import pandas as pd\n",
    "\n",
    "# Sample dataset\n",
    "data = {'Color': ['Red', 'Green', 'Blue', 'Green', 'Red']}\n",
    "\n",
    "# Create DataFrame\n",
    "df = pd.DataFrame(data)\n",
    "\n",
    "# Apply one-hot encoding\n",
    "one_hot = pd.get_dummies(df, columns=['Color'])\n",
    "\n",
    "print(one_hot)\n"
   ]
  },
  {
   "cell_type": "code",
   "execution_count": 15,
   "id": "2c3c11d4",
   "metadata": {
    "execution": {
     "iopub.execute_input": "2025-02-23T15:35:13.373604Z",
     "iopub.status.busy": "2025-02-23T15:35:13.373242Z",
     "iopub.status.idle": "2025-02-23T15:35:13.377463Z",
     "shell.execute_reply": "2025-02-23T15:35:13.376283Z"
    },
    "papermill": {
     "duration": 0.0218,
     "end_time": "2025-02-23T15:35:13.379446",
     "exception": false,
     "start_time": "2025-02-23T15:35:13.357646",
     "status": "completed"
    },
    "tags": []
   },
   "outputs": [],
   "source": [
    "#get_dummies function "
   ]
  },
  {
   "cell_type": "raw",
   "id": "7d21444d",
   "metadata": {
    "papermill": {
     "duration": 0.014582,
     "end_time": "2025-02-23T15:35:13.408525",
     "exception": false,
     "start_time": "2025-02-23T15:35:13.393943",
     "status": "completed"
    },
    "tags": []
   },
   "source": [
    "pd.get_dummies() converts categorical variables into one-hot encoded columns, creating binary (0/1) indicators for each unique category. It helps machine learning models process categorical data efficiently. "
   ]
  },
  {
   "cell_type": "code",
   "execution_count": 16,
   "id": "da0613b1",
   "metadata": {
    "execution": {
     "iopub.execute_input": "2025-02-23T15:35:13.441491Z",
     "iopub.status.busy": "2025-02-23T15:35:13.441077Z",
     "iopub.status.idle": "2025-02-23T15:35:13.445359Z",
     "shell.execute_reply": "2025-02-23T15:35:13.444189Z"
    },
    "papermill": {
     "duration": 0.023241,
     "end_time": "2025-02-23T15:35:13.447125",
     "exception": false,
     "start_time": "2025-02-23T15:35:13.423884",
     "status": "completed"
    },
    "tags": []
   },
   "outputs": [],
   "source": [
    "#using the sklearn lib"
   ]
  },
  {
   "cell_type": "code",
   "execution_count": 17,
   "id": "c436f798",
   "metadata": {
    "execution": {
     "iopub.execute_input": "2025-02-23T15:35:13.478278Z",
     "iopub.status.busy": "2025-02-23T15:35:13.477835Z",
     "iopub.status.idle": "2025-02-23T15:35:15.094497Z",
     "shell.execute_reply": "2025-02-23T15:35:15.092727Z"
    },
    "papermill": {
     "duration": 1.636089,
     "end_time": "2025-02-23T15:35:15.097728",
     "exception": false,
     "start_time": "2025-02-23T15:35:13.461639",
     "status": "completed"
    },
    "tags": []
   },
   "outputs": [],
   "source": [
    "from sklearn.preprocessing import OneHotEncoder"
   ]
  },
  {
   "cell_type": "code",
   "execution_count": 18,
   "id": "ca8acd18",
   "metadata": {
    "execution": {
     "iopub.execute_input": "2025-02-23T15:35:15.147982Z",
     "iopub.status.busy": "2025-02-23T15:35:15.147079Z",
     "iopub.status.idle": "2025-02-23T15:35:15.153862Z",
     "shell.execute_reply": "2025-02-23T15:35:15.152591Z"
    },
    "papermill": {
     "duration": 0.036565,
     "end_time": "2025-02-23T15:35:15.156788",
     "exception": false,
     "start_time": "2025-02-23T15:35:15.120223",
     "status": "completed"
    },
    "tags": []
   },
   "outputs": [],
   "source": [
    "'''creates an instance of OneHotEncoder.\n",
    "sparse=False: Ensures the output is a dense NumPy array instead of a sparse matrix.'''\n",
    "encoder = OneHotEncoder(sparse_output=False)"
   ]
  },
  {
   "cell_type": "code",
   "execution_count": 19,
   "id": "f94f89e8",
   "metadata": {
    "execution": {
     "iopub.execute_input": "2025-02-23T15:35:15.206706Z",
     "iopub.status.busy": "2025-02-23T15:35:15.206236Z",
     "iopub.status.idle": "2025-02-23T15:35:15.219191Z",
     "shell.execute_reply": "2025-02-23T15:35:15.217590Z"
    },
    "papermill": {
     "duration": 0.036428,
     "end_time": "2025-02-23T15:35:15.221960",
     "exception": false,
     "start_time": "2025-02-23T15:35:15.185532",
     "status": "completed"
    },
    "tags": []
   },
   "outputs": [
    {
     "name": "stdout",
     "output_type": "stream",
     "text": [
      "Pass\n"
     ]
    }
   ],
   "source": [
    "# Transform categorical data\n",
    "encoded = encoder.fit_transform(df[['Color']])\n",
    "\n",
    "'''\n",
    "fit_transform(df[['Color']]):\n",
    "fit() learns the unique categories from the \"Color\" column.\n",
    "transform() converts them into one-hot encoded format.\n",
    "The result is a NumPy array where each row represents a category as a binary vector.\n",
    "'''\n",
    "print(\"Pass\")"
   ]
  },
  {
   "cell_type": "code",
   "execution_count": 20,
   "id": "28184c49",
   "metadata": {
    "execution": {
     "iopub.execute_input": "2025-02-23T15:35:15.273391Z",
     "iopub.status.busy": "2025-02-23T15:35:15.272949Z",
     "iopub.status.idle": "2025-02-23T15:35:15.285121Z",
     "shell.execute_reply": "2025-02-23T15:35:15.283298Z"
    },
    "papermill": {
     "duration": 0.040715,
     "end_time": "2025-02-23T15:35:15.287418",
     "exception": false,
     "start_time": "2025-02-23T15:35:15.246703",
     "status": "completed"
    },
    "tags": []
   },
   "outputs": [
    {
     "name": "stdout",
     "output_type": "stream",
     "text": [
      "   Color_Blue  Color_Green  Color_Red\n",
      "0         0.0          0.0        1.0\n",
      "1         0.0          1.0        0.0\n",
      "2         1.0          0.0        0.0\n",
      "3         0.0          1.0        0.0\n",
      "4         0.0          0.0        1.0\n"
     ]
    }
   ],
   "source": [
    "# Convert to DataFrame\n",
    "encoded_df = pd.DataFrame(encoded, columns=encoder.get_feature_names_out(['Color']))\n",
    "'''\n",
    "converts the NumPy array into a pandas DataFrame.\n",
    "encoder.get_feature_names_out(['Color']):\n",
    "Generates proper column names like Color_Blue, Color_Green, etc.\n",
    "'''\n",
    "print(encoded_df)\n"
   ]
  },
  {
   "cell_type": "markdown",
   "id": "87099cad",
   "metadata": {
    "papermill": {
     "duration": 0.014265,
     "end_time": "2025-02-23T15:35:15.322088",
     "exception": false,
     "start_time": "2025-02-23T15:35:15.307823",
     "status": "completed"
    },
    "tags": []
   },
   "source": [
    "## Lesson 4: Feature Scaling"
   ]
  },
  {
   "cell_type": "raw",
   "id": "be5fdb7e",
   "metadata": {
    "papermill": {
     "duration": 0.014549,
     "end_time": "2025-02-23T15:35:15.351471",
     "exception": false,
     "start_time": "2025-02-23T15:35:15.336922",
     "status": "completed"
    },
    "tags": []
   },
   "source": [
    "ML models perform better when numerical features are on a similar scale."
   ]
  },
  {
   "cell_type": "raw",
   "id": "45653aa4",
   "metadata": {
    "papermill": {
     "duration": 0.015115,
     "end_time": "2025-02-23T15:35:15.381752",
     "exception": false,
     "start_time": "2025-02-23T15:35:15.366637",
     "status": "completed"
    },
    "tags": []
   },
   "source": [
    "Feature scaling is a technique used to standardize or normalize the range of independent variables (features) in a dataset. It ensures that all features contribute equally to the model, preventing some features from dominating others due to differences in scale."
   ]
  },
  {
   "cell_type": "raw",
   "id": "9cad0807",
   "metadata": {
    "papermill": {
     "duration": 0.074548,
     "end_time": "2025-02-23T15:35:15.471576",
     "exception": false,
     "start_time": "2025-02-23T15:35:15.397028",
     "status": "completed"
    },
    "tags": []
   },
   "source": [
    "Why is Feature Scaling Important?\n",
    "1. Prevents Dominance of Large-Scale Features\n",
    "Machine learning algorithms that use distance-based calculations (e.g., KNN, K-Means, SVM, PCA) are sensitive to feature magnitudes.\n",
    "\n",
    "2. Improves Convergence in Gradient Descent\n",
    "Algorithms like Linear Regression and Neural Networks converge faster when features are scaled properly.\n",
    "\n",
    "3. Ensures Equal Contribution of Features\n",
    "Features with different units (e.g., age in years vs. income in thousands) may lead to biased models.\n"
   ]
  },
  {
   "cell_type": "raw",
   "id": "b40b6275",
   "metadata": {
    "papermill": {
     "duration": 0.014513,
     "end_time": "2025-02-23T15:35:15.501938",
     "exception": false,
     "start_time": "2025-02-23T15:35:15.487425",
     "status": "completed"
    },
    "tags": []
   },
   "source": [
    "Types of Feature Scaling"
   ]
  },
  {
   "cell_type": "raw",
   "id": "515e8da0",
   "metadata": {
    "papermill": {
     "duration": 0.014063,
     "end_time": "2025-02-23T15:35:15.530424",
     "exception": false,
     "start_time": "2025-02-23T15:35:15.516361",
     "status": "completed"
    },
    "tags": []
   },
   "source": [
    "1️⃣ Min-Max Scaling (Normalization)\n",
    "\n",
    "Scales the features to a fixed range [0,1] or [−1,1].\n",
    "Best for: When data follows a uniform or bounded distribution."
   ]
  },
  {
   "cell_type": "markdown",
   "id": "4280fe6b",
   "metadata": {
    "papermill": {
     "duration": 0.014192,
     "end_time": "2025-02-23T15:35:15.559068",
     "exception": false,
     "start_time": "2025-02-23T15:35:15.544876",
     "status": "completed"
    },
    "tags": []
   },
   "source": [
    "![Formula](Formula.png) \n"
   ]
  },
  {
   "cell_type": "raw",
   "id": "06425196",
   "metadata": {
    "papermill": {
     "duration": 0.014455,
     "end_time": "2025-02-23T15:35:15.588315",
     "exception": false,
     "start_time": "2025-02-23T15:35:15.573860",
     "status": "completed"
    },
    "tags": []
   },
   "source": [
    "We are using sklearn pre-processing module"
   ]
  },
  {
   "cell_type": "raw",
   "id": "14543297",
   "metadata": {
    "papermill": {
     "duration": 0.01466,
     "end_time": "2025-02-23T15:35:15.617627",
     "exception": false,
     "start_time": "2025-02-23T15:35:15.602967",
     "status": "completed"
    },
    "tags": []
   },
   "source": [
    "from sklearn.preprocessing import MinMaxScaler"
   ]
  },
  {
   "cell_type": "code",
   "execution_count": 21,
   "id": "3f7275b7",
   "metadata": {
    "execution": {
     "iopub.execute_input": "2025-02-23T15:35:15.649987Z",
     "iopub.status.busy": "2025-02-23T15:35:15.649460Z",
     "iopub.status.idle": "2025-02-23T15:35:15.654436Z",
     "shell.execute_reply": "2025-02-23T15:35:15.653262Z"
    },
    "papermill": {
     "duration": 0.023549,
     "end_time": "2025-02-23T15:35:15.656508",
     "exception": false,
     "start_time": "2025-02-23T15:35:15.632959",
     "status": "completed"
    },
    "tags": []
   },
   "outputs": [],
   "source": [
    "import numpy as np\n",
    "import pandas as pd\n",
    "from sklearn.preprocessing import MinMaxScaler"
   ]
  },
  {
   "cell_type": "code",
   "execution_count": 22,
   "id": "837a6c08",
   "metadata": {
    "execution": {
     "iopub.execute_input": "2025-02-23T15:35:15.688603Z",
     "iopub.status.busy": "2025-02-23T15:35:15.688222Z",
     "iopub.status.idle": "2025-02-23T15:35:15.694025Z",
     "shell.execute_reply": "2025-02-23T15:35:15.692470Z"
    },
    "papermill": {
     "duration": 0.025126,
     "end_time": "2025-02-23T15:35:15.696405",
     "exception": false,
     "start_time": "2025-02-23T15:35:15.671279",
     "status": "completed"
    },
    "tags": []
   },
   "outputs": [],
   "source": [
    "# Sample Data\n",
    "data = {'Age': [20, 30, 40, 50, 60], 'Salary': [30000, 50000, 70000, 90000, 110000]}\n",
    "df = pd.DataFrame(data)"
   ]
  },
  {
   "cell_type": "code",
   "execution_count": 23,
   "id": "0cadb08a",
   "metadata": {
    "execution": {
     "iopub.execute_input": "2025-02-23T15:35:15.727900Z",
     "iopub.status.busy": "2025-02-23T15:35:15.727472Z",
     "iopub.status.idle": "2025-02-23T15:35:15.735201Z",
     "shell.execute_reply": "2025-02-23T15:35:15.733772Z"
    },
    "papermill": {
     "duration": 0.025895,
     "end_time": "2025-02-23T15:35:15.737177",
     "exception": false,
     "start_time": "2025-02-23T15:35:15.711282",
     "status": "completed"
    },
    "tags": []
   },
   "outputs": [],
   "source": [
    "# Apply Min-Max Scaling\n",
    "scaler = MinMaxScaler() #MinMaxScaler obj 'scaler' created \n",
    "scaled_data = scaler.fit_transform(df) #using the fit_transform() function on df with the scale obj"
   ]
  },
  {
   "cell_type": "code",
   "execution_count": 24,
   "id": "106d2364",
   "metadata": {
    "execution": {
     "iopub.execute_input": "2025-02-23T15:35:15.767287Z",
     "iopub.status.busy": "2025-02-23T15:35:15.766875Z",
     "iopub.status.idle": "2025-02-23T15:35:15.774385Z",
     "shell.execute_reply": "2025-02-23T15:35:15.773213Z"
    },
    "papermill": {
     "duration": 0.024445,
     "end_time": "2025-02-23T15:35:15.776064",
     "exception": false,
     "start_time": "2025-02-23T15:35:15.751619",
     "status": "completed"
    },
    "tags": []
   },
   "outputs": [
    {
     "name": "stdout",
     "output_type": "stream",
     "text": [
      "    Age  Salary\n",
      "0  0.00    0.00\n",
      "1  0.25    0.25\n",
      "2  0.50    0.50\n",
      "3  0.75    0.75\n",
      "4  1.00    1.00\n"
     ]
    }
   ],
   "source": [
    "# Convert back to DataFrame\n",
    "scaled_df = pd.DataFrame(scaled_data, columns=df.columns)\n",
    "print(scaled_df)\n"
   ]
  },
  {
   "cell_type": "raw",
   "id": "81228cd0",
   "metadata": {
    "papermill": {
     "duration": 0.014444,
     "end_time": "2025-02-23T15:35:15.805039",
     "exception": false,
     "start_time": "2025-02-23T15:35:15.790595",
     "status": "completed"
    },
    "tags": []
   },
   "source": [
    "2️⃣ Standardization (Z-Score Normalization)\n",
    "Transforms data to have zero mean and unit variance.\n",
    "Best for: When data follows a normal (Gaussian) distribution"
   ]
  },
  {
   "cell_type": "markdown",
   "id": "a58c423c",
   "metadata": {
    "papermill": {
     "duration": 0.014133,
     "end_time": "2025-02-23T15:35:15.833678",
     "exception": false,
     "start_time": "2025-02-23T15:35:15.819545",
     "status": "completed"
    },
    "tags": []
   },
   "source": [
    "![Formula](Formula2.png) \n"
   ]
  },
  {
   "cell_type": "code",
   "execution_count": 25,
   "id": "ebc377bc",
   "metadata": {
    "execution": {
     "iopub.execute_input": "2025-02-23T15:35:15.864107Z",
     "iopub.status.busy": "2025-02-23T15:35:15.863662Z",
     "iopub.status.idle": "2025-02-23T15:35:15.868539Z",
     "shell.execute_reply": "2025-02-23T15:35:15.867240Z"
    },
    "papermill": {
     "duration": 0.022425,
     "end_time": "2025-02-23T15:35:15.870624",
     "exception": false,
     "start_time": "2025-02-23T15:35:15.848199",
     "status": "completed"
    },
    "tags": []
   },
   "outputs": [],
   "source": [
    "from sklearn.preprocessing import StandardScaler"
   ]
  },
  {
   "cell_type": "code",
   "execution_count": 26,
   "id": "f52b5132",
   "metadata": {
    "execution": {
     "iopub.execute_input": "2025-02-23T15:35:15.903706Z",
     "iopub.status.busy": "2025-02-23T15:35:15.903340Z",
     "iopub.status.idle": "2025-02-23T15:35:15.913537Z",
     "shell.execute_reply": "2025-02-23T15:35:15.912521Z"
    },
    "papermill": {
     "duration": 0.029045,
     "end_time": "2025-02-23T15:35:15.915337",
     "exception": false,
     "start_time": "2025-02-23T15:35:15.886292",
     "status": "completed"
    },
    "tags": []
   },
   "outputs": [],
   "source": [
    "# Apply Standardization\n",
    "scaler = StandardScaler()\n",
    "standardized_data = scaler.fit_transform(df)\n"
   ]
  },
  {
   "cell_type": "code",
   "execution_count": 27,
   "id": "e6501fa4",
   "metadata": {
    "execution": {
     "iopub.execute_input": "2025-02-23T15:35:15.947035Z",
     "iopub.status.busy": "2025-02-23T15:35:15.946632Z",
     "iopub.status.idle": "2025-02-23T15:35:15.953982Z",
     "shell.execute_reply": "2025-02-23T15:35:15.952693Z"
    },
    "papermill": {
     "duration": 0.025366,
     "end_time": "2025-02-23T15:35:15.955893",
     "exception": false,
     "start_time": "2025-02-23T15:35:15.930527",
     "status": "completed"
    },
    "tags": []
   },
   "outputs": [
    {
     "name": "stdout",
     "output_type": "stream",
     "text": [
      "        Age    Salary\n",
      "0 -1.414214 -1.414214\n",
      "1 -0.707107 -0.707107\n",
      "2  0.000000  0.000000\n",
      "3  0.707107  0.707107\n",
      "4  1.414214  1.414214\n"
     ]
    }
   ],
   "source": [
    "\n",
    "# Convert back to DataFrame\n",
    "standardized_df = pd.DataFrame(standardized_data, columns=df.columns)\n",
    "print(standardized_df)\n"
   ]
  },
  {
   "cell_type": "markdown",
   "id": "1bb3f26f",
   "metadata": {
    "papermill": {
     "duration": 0.016868,
     "end_time": "2025-02-23T15:35:15.993442",
     "exception": false,
     "start_time": "2025-02-23T15:35:15.976574",
     "status": "completed"
    },
    "tags": []
   },
   "source": [
    "3️⃣  Robust Scaling (Median-based Scaling)"
   ]
  },
  {
   "attachments": {
    "d6963933-a5a3-44b9-9c09-67c374ed97d9.png": {
     "image/png": "[encoded data removed]"
    }
   },
   "cell_type": "raw",
   "id": "63952850",
   "metadata": {
    "papermill": {
     "duration": 0.014146,
     "end_time": "2025-02-23T15:35:16.023057",
     "exception": false,
     "start_time": "2025-02-23T15:35:16.008911",
     "status": "completed"
    },
    "tags": []
   },
   "source": [
    "Uses the median and interquartile range (IQR) instead of mean and standard deviation.\n",
    "Best for: Handling outliers effectively."
   ]
  },
  {
   "attachments": {
    "c6f9eb91-3fdf-49b7-b5ee-64fb1cb4ee9e.png": {
     "image/png": "[encoded data removed]"
    }
   },
   "cell_type": "markdown",
   "id": "57ed40c1",
   "metadata": {
    "papermill": {
     "duration": 0.014007,
     "end_time": "2025-02-23T15:35:16.051706",
     "exception": false,
     "start_time": "2025-02-23T15:35:16.037699",
     "status": "completed"
    },
    "tags": []
   },
   "source": [
    "![Formula3.png](attachment:c6f9eb91-3fdf-49b7-b5ee-64fb1cb4ee9e.png)"
   ]
  },
  {
   "cell_type": "code",
   "execution_count": 28,
   "id": "5cf82190",
   "metadata": {
    "execution": {
     "iopub.execute_input": "2025-02-23T15:35:16.083093Z",
     "iopub.status.busy": "2025-02-23T15:35:16.082698Z",
     "iopub.status.idle": "2025-02-23T15:35:16.100179Z",
     "shell.execute_reply": "2025-02-23T15:35:16.098299Z"
    },
    "papermill": {
     "duration": 0.035235,
     "end_time": "2025-02-23T15:35:16.102218",
     "exception": false,
     "start_time": "2025-02-23T15:35:16.066983",
     "status": "completed"
    },
    "tags": []
   },
   "outputs": [
    {
     "name": "stdout",
     "output_type": "stream",
     "text": [
      "   Age  Salary\n",
      "0 -1.0    -1.0\n",
      "1 -0.5    -0.5\n",
      "2  0.0     0.0\n",
      "3  0.5     0.5\n",
      "4  1.0     1.0\n"
     ]
    }
   ],
   "source": [
    "from sklearn.preprocessing import RobustScaler\n",
    "\n",
    "# Apply Robust Scaling\n",
    "scaler = RobustScaler()\n",
    "robust_scaled_data = scaler.fit_transform(df)\n",
    "\n",
    "# Convert back to DataFrame\n",
    "robust_scaled_df = pd.DataFrame(robust_scaled_data, columns=df.columns)\n",
    "print(robust_scaled_df)\n"
   ]
  },
  {
   "cell_type": "raw",
   "id": "d2d794a2",
   "metadata": {
    "papermill": {
     "duration": 0.014754,
     "end_time": "2025-02-23T15:35:16.131838",
     "exception": false,
     "start_time": "2025-02-23T15:35:16.117084",
     "status": "completed"
    },
    "tags": []
   },
   "source": [
    "4️⃣ Max Abs Scaling"
   ]
  },
  {
   "cell_type": "raw",
   "id": "0c11e99b",
   "metadata": {
    "papermill": {
     "duration": 0.01504,
     "end_time": "2025-02-23T15:35:16.162084",
     "exception": false,
     "start_time": "2025-02-23T15:35:16.147044",
     "status": "completed"
    },
    "tags": []
   },
   "source": [
    "Scales each feature by dividing by its maximum absolute value. \n",
    "Best for: Data with both positive and negative values."
   ]
  },
  {
   "attachments": {
    "1686cf6c-8639-465b-be91-e727b14405f6.png": {
     "image/png": "[encoded data removed]"
    }
   },
   "cell_type": "markdown",
   "id": "64163045",
   "metadata": {
    "papermill": {
     "duration": 0.014626,
     "end_time": "2025-02-23T15:35:16.193358",
     "exception": false,
     "start_time": "2025-02-23T15:35:16.178732",
     "status": "completed"
    },
    "tags": []
   },
   "source": [
    "![Formula4.png](attachment:1686cf6c-8639-465b-be91-e727b14405f6.png)"
   ]
  },
  {
   "cell_type": "code",
   "execution_count": 29,
   "id": "1eb9e0cb",
   "metadata": {
    "execution": {
     "iopub.execute_input": "2025-02-23T15:35:16.225610Z",
     "iopub.status.busy": "2025-02-23T15:35:16.225262Z",
     "iopub.status.idle": "2025-02-23T15:35:16.236157Z",
     "shell.execute_reply": "2025-02-23T15:35:16.234547Z"
    },
    "papermill": {
     "duration": 0.029006,
     "end_time": "2025-02-23T15:35:16.238177",
     "exception": false,
     "start_time": "2025-02-23T15:35:16.209171",
     "status": "completed"
    },
    "tags": []
   },
   "outputs": [
    {
     "name": "stdout",
     "output_type": "stream",
     "text": [
      "        Age    Salary\n",
      "0  0.333333  0.272727\n",
      "1  0.500000  0.454545\n",
      "2  0.666667  0.636364\n",
      "3  0.833333  0.818182\n",
      "4  1.000000  1.000000\n"
     ]
    }
   ],
   "source": [
    "from sklearn.preprocessing import MaxAbsScaler\n",
    "\n",
    "# Apply Max Abs Scaling\n",
    "scaler = MaxAbsScaler()\n",
    "maxabs_scaled_data = scaler.fit_transform(df)\n",
    "\n",
    "# Convert back to DataFrame\n",
    "maxabs_scaled_df = pd.DataFrame(maxabs_scaled_data, columns=df.columns)\n",
    "print(maxabs_scaled_df)\n"
   ]
  },
  {
   "attachments": {
    "720afce5-0124-4eea-b1e0-b6ba460df5b1.png": {
     "image/png": "[encoded data removed]"
    }
   },
   "cell_type": "markdown",
   "id": "c4e60dd6",
   "metadata": {
    "papermill": {
     "duration": 0.015058,
     "end_time": "2025-02-23T15:35:16.268325",
     "exception": false,
     "start_time": "2025-02-23T15:35:16.253267",
     "status": "completed"
    },
    "tags": []
   },
   "source": [
    "![image1.png](attachment:720afce5-0124-4eea-b1e0-b6ba460df5b1.png)"
   ]
  },
  {
   "cell_type": "raw",
   "id": "5c28bd46",
   "metadata": {
    "papermill": {
     "duration": 0.014709,
     "end_time": "2025-02-23T15:35:16.297705",
     "exception": false,
     "start_time": "2025-02-23T15:35:16.282996",
     "status": "completed"
    },
    "tags": []
   },
   "source": [
    "Key Takeaways\n",
    "✅ Feature scaling is essential for improving model performance.\n",
    "✅ Min-Max Scaling is best for bounded data.\n",
    "✅ Standardization (Z-score scaling) works well for normal distributions.\n",
    "✅ Robust Scaling is effective for handling outliers.\n",
    "✅ Max Abs Scaling is useful for sparse data"
   ]
  },
  {
   "cell_type": "code",
   "execution_count": 30,
   "id": "3815476e",
   "metadata": {
    "execution": {
     "iopub.execute_input": "2025-02-23T15:35:16.328963Z",
     "iopub.status.busy": "2025-02-23T15:35:16.328620Z",
     "iopub.status.idle": "2025-02-23T15:35:16.342382Z",
     "shell.execute_reply": "2025-02-23T15:35:16.341079Z"
    },
    "papermill": {
     "duration": 0.031577,
     "end_time": "2025-02-23T15:35:16.344517",
     "exception": false,
     "start_time": "2025-02-23T15:35:16.312940",
     "status": "completed"
    },
    "tags": []
   },
   "outputs": [],
   "source": [
    "from sklearn.preprocessing import MinMaxScaler, StandardScaler\n",
    "\n",
    "# Min-Max Scaling\n",
    "scaler = MinMaxScaler()\n",
    "dft[['Age', 'Fare']] = scaler.fit_transform(dft[['Age', 'Fare']])\n",
    "\n",
    "# Standardization\n",
    "scaler = StandardScaler()\n",
    "dft[['Age', 'Fare']] = scaler.fit_transform(dft[['Age', 'Fare']])\n"
   ]
  },
  {
   "cell_type": "code",
   "execution_count": 31,
   "id": "d6cd880f",
   "metadata": {
    "execution": {
     "iopub.execute_input": "2025-02-23T15:35:16.376789Z",
     "iopub.status.busy": "2025-02-23T15:35:16.376425Z",
     "iopub.status.idle": "2025-02-23T15:35:16.392042Z",
     "shell.execute_reply": "2025-02-23T15:35:16.390803Z"
    },
    "papermill": {
     "duration": 0.034368,
     "end_time": "2025-02-23T15:35:16.393870",
     "exception": false,
     "start_time": "2025-02-23T15:35:16.359502",
     "status": "completed"
    },
    "tags": []
   },
   "outputs": [
    {
     "data": {
      "text/html": [
       "<div>\n",
       "<style scoped>\n",
       "    .dataframe tbody tr th:only-of-type {\n",
       "        vertical-align: middle;\n",
       "    }\n",
       "\n",
       "    .dataframe tbody tr th {\n",
       "        vertical-align: top;\n",
       "    }\n",
       "\n",
       "    .dataframe thead th {\n",
       "        text-align: right;\n",
       "    }\n",
       "</style>\n",
       "<table border=\"1\" class=\"dataframe\">\n",
       "  <thead>\n",
       "    <tr style=\"text-align: right;\">\n",
       "      <th></th>\n",
       "      <th>PassengerId</th>\n",
       "      <th>Survived</th>\n",
       "      <th>Pclass</th>\n",
       "      <th>Name</th>\n",
       "      <th>Sex</th>\n",
       "      <th>Age</th>\n",
       "      <th>SibSp</th>\n",
       "      <th>Parch</th>\n",
       "      <th>Ticket</th>\n",
       "      <th>Fare</th>\n",
       "      <th>Cabin</th>\n",
       "      <th>Embarked_C</th>\n",
       "      <th>Embarked_Q</th>\n",
       "      <th>Embarked_S</th>\n",
       "    </tr>\n",
       "  </thead>\n",
       "  <tbody>\n",
       "    <tr>\n",
       "      <th>0</th>\n",
       "      <td>1</td>\n",
       "      <td>0</td>\n",
       "      <td>3</td>\n",
       "      <td>Braund, Mr. Owen Harris</td>\n",
       "      <td>0</td>\n",
       "      <td>-0.565736</td>\n",
       "      <td>1</td>\n",
       "      <td>0</td>\n",
       "      <td>A/5 21171</td>\n",
       "      <td>-0.502445</td>\n",
       "      <td>NaN</td>\n",
       "      <td>False</td>\n",
       "      <td>False</td>\n",
       "      <td>True</td>\n",
       "    </tr>\n",
       "    <tr>\n",
       "      <th>1</th>\n",
       "      <td>2</td>\n",
       "      <td>1</td>\n",
       "      <td>1</td>\n",
       "      <td>Cumings, Mrs. John Bradley (Florence Briggs Th...</td>\n",
       "      <td>1</td>\n",
       "      <td>0.663861</td>\n",
       "      <td>1</td>\n",
       "      <td>0</td>\n",
       "      <td>PC 17599</td>\n",
       "      <td>0.786845</td>\n",
       "      <td>C85</td>\n",
       "      <td>True</td>\n",
       "      <td>False</td>\n",
       "      <td>False</td>\n",
       "    </tr>\n",
       "    <tr>\n",
       "      <th>2</th>\n",
       "      <td>3</td>\n",
       "      <td>1</td>\n",
       "      <td>3</td>\n",
       "      <td>Heikkinen, Miss. Laina</td>\n",
       "      <td>1</td>\n",
       "      <td>-0.258337</td>\n",
       "      <td>0</td>\n",
       "      <td>0</td>\n",
       "      <td>STON/O2. 3101282</td>\n",
       "      <td>-0.488854</td>\n",
       "      <td>NaN</td>\n",
       "      <td>False</td>\n",
       "      <td>False</td>\n",
       "      <td>True</td>\n",
       "    </tr>\n",
       "    <tr>\n",
       "      <th>3</th>\n",
       "      <td>4</td>\n",
       "      <td>1</td>\n",
       "      <td>1</td>\n",
       "      <td>Futrelle, Mrs. Jacques Heath (Lily May Peel)</td>\n",
       "      <td>1</td>\n",
       "      <td>0.433312</td>\n",
       "      <td>1</td>\n",
       "      <td>0</td>\n",
       "      <td>113803</td>\n",
       "      <td>0.420730</td>\n",
       "      <td>C123</td>\n",
       "      <td>False</td>\n",
       "      <td>False</td>\n",
       "      <td>True</td>\n",
       "    </tr>\n",
       "    <tr>\n",
       "      <th>4</th>\n",
       "      <td>5</td>\n",
       "      <td>0</td>\n",
       "      <td>3</td>\n",
       "      <td>Allen, Mr. William Henry</td>\n",
       "      <td>0</td>\n",
       "      <td>0.433312</td>\n",
       "      <td>0</td>\n",
       "      <td>0</td>\n",
       "      <td>373450</td>\n",
       "      <td>-0.486337</td>\n",
       "      <td>NaN</td>\n",
       "      <td>False</td>\n",
       "      <td>False</td>\n",
       "      <td>True</td>\n",
       "    </tr>\n",
       "  </tbody>\n",
       "</table>\n",
       "</div>"
      ],
      "text/plain": [
       "   PassengerId  Survived  Pclass  \\\n",
       "0            1         0       3   \n",
       "1            2         1       1   \n",
       "2            3         1       3   \n",
       "3            4         1       1   \n",
       "4            5         0       3   \n",
       "\n",
       "                                                Name  Sex       Age  SibSp  \\\n",
       "0                            Braund, Mr. Owen Harris    0 -0.565736      1   \n",
       "1  Cumings, Mrs. John Bradley (Florence Briggs Th...    1  0.663861      1   \n",
       "2                             Heikkinen, Miss. Laina    1 -0.258337      0   \n",
       "3       Futrelle, Mrs. Jacques Heath (Lily May Peel)    1  0.433312      1   \n",
       "4                           Allen, Mr. William Henry    0  0.433312      0   \n",
       "\n",
       "   Parch            Ticket      Fare Cabin  Embarked_C  Embarked_Q  Embarked_S  \n",
       "0      0         A/5 21171 -0.502445   NaN       False       False        True  \n",
       "1      0          PC 17599  0.786845   C85        True       False       False  \n",
       "2      0  STON/O2. 3101282 -0.488854   NaN       False       False        True  \n",
       "3      0            113803  0.420730  C123       False       False        True  \n",
       "4      0            373450 -0.486337   NaN       False       False        True  "
      ]
     },
     "execution_count": 31,
     "metadata": {},
     "output_type": "execute_result"
    }
   ],
   "source": [
    "dft.head()"
   ]
  },
  {
   "cell_type": "markdown",
   "id": "4b1d9256",
   "metadata": {
    "papermill": {
     "duration": 0.015559,
     "end_time": "2025-02-23T15:35:16.424950",
     "exception": false,
     "start_time": "2025-02-23T15:35:16.409391",
     "status": "completed"
    },
    "tags": []
   },
   "source": [
    "## Lesson 5: Feature Creation (New Features from Existing Data)"
   ]
  },
  {
   "cell_type": "raw",
   "id": "46b86379",
   "metadata": {
    "papermill": {
     "duration": 0.015559,
     "end_time": "2025-02-23T15:35:16.455976",
     "exception": false,
     "start_time": "2025-02-23T15:35:16.440417",
     "status": "completed"
    },
    "tags": []
   },
   "source": [
    "Sometimes, raw features don’t capture useful information. Let’s create better ones!"
   ]
  },
  {
   "cell_type": "code",
   "execution_count": 32,
   "id": "87f682dd",
   "metadata": {
    "execution": {
     "iopub.execute_input": "2025-02-23T15:35:16.490913Z",
     "iopub.status.busy": "2025-02-23T15:35:16.490548Z",
     "iopub.status.idle": "2025-02-23T15:35:16.499602Z",
     "shell.execute_reply": "2025-02-23T15:35:16.498136Z"
    },
    "papermill": {
     "duration": 0.027729,
     "end_time": "2025-02-23T15:35:16.501618",
     "exception": false,
     "start_time": "2025-02-23T15:35:16.473889",
     "status": "completed"
    },
    "tags": []
   },
   "outputs": [
    {
     "name": "stdout",
     "output_type": "stream",
     "text": [
      "   FamilySize\n",
      "0           2\n",
      "1           2\n",
      "2           1\n",
      "3           2\n",
      "4           1\n"
     ]
    }
   ],
   "source": [
    "dft['FamilySize'] = dft['SibSp'] + dft['Parch'] + 1\n",
    "print(dft[['FamilySize']].head())\n"
   ]
  },
  {
   "cell_type": "markdown",
   "id": "7ed6cea8",
   "metadata": {
    "papermill": {
     "duration": 0.015765,
     "end_time": "2025-02-23T15:35:16.533391",
     "exception": false,
     "start_time": "2025-02-23T15:35:16.517626",
     "status": "completed"
    },
    "tags": []
   },
   "source": [
    "## Lesson 6: Dimensionality Reduction (PCA, LDA)"
   ]
  },
  {
   "cell_type": "code",
   "execution_count": 33,
   "id": "d4660616",
   "metadata": {
    "execution": {
     "iopub.execute_input": "2025-02-23T15:35:16.565626Z",
     "iopub.status.busy": "2025-02-23T15:35:16.565191Z",
     "iopub.status.idle": "2025-02-23T15:35:17.062808Z",
     "shell.execute_reply": "2025-02-23T15:35:17.061048Z"
    },
    "papermill": {
     "duration": 0.516366,
     "end_time": "2025-02-23T15:35:17.065029",
     "exception": false,
     "start_time": "2025-02-23T15:35:16.548663",
     "status": "completed"
    },
    "tags": []
   },
   "outputs": [
    {
     "name": "stdout",
     "output_type": "stream",
     "text": [
      "[[ 0.11825055 -0.75253139]\n",
      " [ 0.09623265  1.02894653]\n",
      " [-0.90446456 -0.54294622]\n",
      " [ 0.0778821   0.60437115]\n",
      " [-1.04747036 -0.06702416]]\n"
     ]
    }
   ],
   "source": [
    "from sklearn.decomposition import PCA\n",
    "\n",
    "pca = PCA(n_components=2)\n",
    "reduced_features = pca.fit_transform(dft[['Age', 'Fare', 'FamilySize']])\n",
    "print(reduced_features[:5])\n"
   ]
  },
  {
   "cell_type": "markdown",
   "id": "08e9e620",
   "metadata": {
    "papermill": {
     "duration": 0.01553,
     "end_time": "2025-02-23T15:35:17.096130",
     "exception": false,
     "start_time": "2025-02-23T15:35:17.080600",
     "status": "completed"
    },
    "tags": []
   },
   "source": [
    "Dimensionality reduction is a technique used to reduce the number of input features (dimensions) while preserving important information. It helps in:\n",
    "✅ Reducing computation time\n",
    "✅ Removing noise and redundancy\n",
    "✅ Avoiding the curse of dimensionality\n",
    "✅ Improving model performance"
   ]
  },
  {
   "cell_type": "code",
   "execution_count": null,
   "id": "09151ae3",
   "metadata": {
    "papermill": {
     "duration": 0.015173,
     "end_time": "2025-02-23T15:35:17.127119",
     "exception": false,
     "start_time": "2025-02-23T15:35:17.111946",
     "status": "completed"
    },
    "tags": []
   },
   "outputs": [],
   "source": []
  }
 ],
 "metadata": {
  "kaggle": {
   "accelerator": "none",
   "dataSources": [],
   "dockerImageVersionId": 30918,
   "isGpuEnabled": false,
   "isInternetEnabled": true,
   "language": "python",
   "sourceType": "notebook"
  },
  "kernelspec": {
   "display_name": "Python 3",
   "language": "python",
   "name": "python3"
  },
  "language_info": {
   "codemirror_mode": {
    "name": "ipython",
    "version": 3
   },
   "file_extension": ".py",
   "mimetype": "text/x-python",
   "name": "python",
   "nbconvert_exporter": "python",
   "pygments_lexer": "ipython3",
   "version": "3.10.12"
  },
  "papermill": {
   "default_parameters": {},
   "duration": 10.036452,
   "end_time": "2025-02-23T15:35:17.864349",
   "environment_variables": {},
   "exception": null,
   "input_path": "__notebook__.ipynb",
   "output_path": "__notebook__.ipynb",
   "parameters": {},
   "start_time": "2025-02-23T15:35:07.827897",
   "version": "2.6.0"
  }
 },
 "nbformat": 4,
 "nbformat_minor": 5
}
